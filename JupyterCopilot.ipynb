{
 "cells": [
  {
   "cell_type": "markdown",
   "id": "58a1f6a0",
   "metadata": {},
   "source": [
    "# Install dependencies (using %pip magic ...)"
   ]
  },
  {
   "cell_type": "code",
   "execution_count": null,
   "id": "af743a9d",
   "metadata": {},
   "outputs": [],
   "source": [
    "%pip install openai python-dotenv"
   ]
  },
  {
   "cell_type": "markdown",
   "id": "d0911f49",
   "metadata": {},
   "source": [
    "# Create the `%ai` Jupyter magic"
   ]
  },
  {
   "cell_type": "code",
   "execution_count": 1,
   "id": "72cda368",
   "metadata": {},
   "outputs": [],
   "source": [
    "from IPython.core.magic import (Magics, magics_class, line_magic,\n",
    "                                cell_magic, line_cell_magic)\n",
    "import os\n",
    "import openai\n",
    "from dotenv import load_dotenv\n",
    "\n",
    "load_dotenv()\n",
    "\n",
    "openai.api_key = os.getenv(\"OPENAI_API_KEY\")\n",
    "\n",
    "def create_new_cell(contents):\n",
    "    from IPython.core.getipython import get_ipython\n",
    "    shell = get_ipython()\n",
    "    shell.set_next_input(contents, replace=False)\n",
    "            \n",
    "# The class MUST call this class decorator at creation time\n",
    "@magics_class\n",
    "class JupyterCopilotMagics(Magics):        \n",
    "    @line_cell_magic\n",
    "    def ai(self, line, cell=None):               \n",
    "        #print(\"Full access to the main IPython object:\", self.shell)\n",
    "        #print(\"Variables in the user namespace:\", list(self.shell.user_ns.keys()))\n",
    "        \n",
    "        prompt = cell or line\n",
    "        response = openai.Completion.create(\n",
    "          model=\"text-davinci-002\",\n",
    "          prompt=prompt,\n",
    "          temperature=0,\n",
    "          max_tokens=100,\n",
    "          top_p=1,\n",
    "          frequency_penalty=0.5,\n",
    "          presence_penalty=0\n",
    "        )\n",
    "        text = response[\"choices\"][0][\"text\"]\n",
    "        while text[0] == \"\\n\":\n",
    "            text = text[1:]\n",
    "        create_new_cell(text)\n",
    "\n",
    "get_ipython().register_magics(JupyterCopilotMagics)"
   ]
  },
  {
   "cell_type": "markdown",
   "id": "f3a27a3c",
   "metadata": {},
   "source": [
    "# Use `%ai` for one-liner."
   ]
  },
  {
   "cell_type": "code",
   "execution_count": 2,
   "id": "fe4df2d0",
   "metadata": {},
   "outputs": [],
   "source": [
    "%ai Create a python function that check if a number is prime."
   ]
  },
  {
   "cell_type": "code",
   "execution_count": null,
   "id": "9c98dfe4",
   "metadata": {},
   "outputs": [],
   "source": [
    "def is_prime(num):\n",
    "    for n in range(2, num):\n",
    "        if num % n == 0:\n",
    "            print(num, \"is not prime\")\n",
    "            break\n",
    "    else:\n",
    "        print(num, \"is prime\")"
   ]
  },
  {
   "cell_type": "markdown",
   "id": "de479431",
   "metadata": {},
   "source": [
    "# Use `%%ai` for multiple line prompt."
   ]
  },
  {
   "cell_type": "code",
   "execution_count": 9,
   "id": "e5dc051b",
   "metadata": {},
   "outputs": [],
   "source": [
    "%%ai\n",
    "# Use python language, and possibly a for loop.\n",
    "# Print the first primes < 100.\n",
    "# Your code here"
   ]
  },
  {
   "cell_type": "code",
   "execution_count": 10,
   "id": "6dd1ce06",
   "metadata": {},
   "outputs": [
    {
     "name": "stdout",
     "output_type": "stream",
     "text": [
      "2\n",
      "3\n",
      "5\n",
      "7\n",
      "11\n",
      "13\n",
      "17\n",
      "19\n",
      "23\n",
      "29\n",
      "31\n",
      "37\n",
      "41\n",
      "43\n",
      "47\n",
      "53\n",
      "59\n",
      "61\n",
      "67\n",
      "71\n",
      "73\n",
      "79\n",
      "83\n",
      "89\n",
      "97\n"
     ]
    }
   ],
   "source": [
    "# Solution\n",
    "\n",
    "for num in range(2, 100):\n",
    "    for i in range(2, num):\n",
    "        if (num % i) == 0:\n",
    "            break\n",
    "    else:\n",
    "        print(num)"
   ]
  },
  {
   "cell_type": "code",
   "execution_count": null,
   "id": "5d36f27a",
   "metadata": {},
   "outputs": [],
   "source": []
  }
 ],
 "metadata": {
  "kernelspec": {
   "display_name": "Python 3 (ipykernel)",
   "language": "python",
   "name": "python3"
  },
  "language_info": {
   "codemirror_mode": {
    "name": "ipython",
    "version": 3
   },
   "file_extension": ".py",
   "mimetype": "text/x-python",
   "name": "python",
   "nbconvert_exporter": "python",
   "pygments_lexer": "ipython3",
   "version": "3.9.13"
  }
 },
 "nbformat": 4,
 "nbformat_minor": 5
}
