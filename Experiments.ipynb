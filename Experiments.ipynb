{
 "cells": [
  {
   "cell_type": "markdown",
   "id": "58a1f6a0",
   "metadata": {},
   "source": [
    "# Install dependencies (using %pip magic ...)"
   ]
  },
  {
   "cell_type": "code",
   "execution_count": null,
   "id": "af743a9d",
   "metadata": {},
   "outputs": [],
   "source": [
    "%pip install openai python-dotenv google-search-results"
   ]
  },
  {
   "cell_type": "markdown",
   "id": "d0911f49",
   "metadata": {},
   "source": [
    "# Create the `%ai` Jupyter magic"
   ]
  },
  {
   "cell_type": "code",
   "execution_count": 1,
   "id": "72cda368",
   "metadata": {},
   "outputs": [],
   "source": [
    "from IPython.core.magic import (Magics, magics_class, line_magic,\n",
    "                                cell_magic, line_cell_magic)\n",
    "import os\n",
    "import openai\n",
    "from dotenv import load_dotenv\n",
    "\n",
    "load_dotenv()\n",
    "\n",
    "openai.api_key = os.getenv(\"OPENAI_API_KEY\")\n",
    "\n",
    "def create_new_cell(contents):\n",
    "    from IPython.core.getipython import get_ipython\n",
    "    shell = get_ipython()\n",
    "    shell.set_next_input(contents, replace=False)\n",
    "            \n",
    "# The class MUST call this class decorator at creation time\n",
    "@magics_class\n",
    "class JupyterCopilotMagics(Magics):        \n",
    "    @line_cell_magic\n",
    "    def ai(self, line, cell=None):               \n",
    "        #print(\"Full access to the main IPython object:\", self.shell)\n",
    "        #print(\"Variables in the user namespace:\", list(self.shell.user_ns.keys()))\n",
    "        \n",
    "        prompt = cell or line\n",
    "        response = openai.Completion.create(\n",
    "          model=\"text-davinci-002\",\n",
    "          prompt=prompt,\n",
    "          temperature=0,\n",
    "          max_tokens=100,\n",
    "          top_p=1,\n",
    "          frequency_penalty=0.5,\n",
    "          presence_penalty=0\n",
    "        )\n",
    "        text = response[\"choices\"][0][\"text\"]\n",
    "        while text[0] == \"\\n\":\n",
    "            text = text[1:]\n",
    "        create_new_cell(text)\n",
    "\n",
    "get_ipython().register_magics(JupyterCopilotMagics)"
   ]
  },
  {
   "cell_type": "code",
   "execution_count": 2,
   "id": "ca1152b2",
   "metadata": {},
   "outputs": [],
   "source": [
    "%ai Create a python function that hashes a string using SHA256."
   ]
  },
  {
   "cell_type": "code",
   "execution_count": null,
   "id": "1e012e95",
   "metadata": {},
   "outputs": [],
   "source": [
    "def hash_string_sha256(string):\n",
    "\n",
    "    # Convert the string to bytes\n",
    "    string_bytes = string.encode('utf-8')\n",
    "\n",
    "    # Use the sha256 function to hash the string\n",
    "    return hashlib.sha256(string_bytes).hexdigest()"
   ]
  },
  {
   "cell_type": "code",
   "execution_count": 6,
   "id": "54ee8b5a",
   "metadata": {},
   "outputs": [],
   "source": [
    "%ai Create a python function that writes an object into a json file pretty printed "
   ]
  },
  {
   "cell_type": "code",
   "execution_count": null,
   "id": "c6a741ef",
   "metadata": {},
   "outputs": [],
   "source": [
    "def write_json(filename, obj):\n",
    "    with open(filename, 'w') as f:\n",
    "        json.dump(obj, f, indent=4)"
   ]
  },
  {
   "cell_type": "code",
   "execution_count": 3,
   "id": "ded45946",
   "metadata": {},
   "outputs": [],
   "source": [
    "from serpapi import GoogleSearch\n",
    "from pathlib import Path\n",
    "import json\n",
    "\n",
    "SERP_API_KEY = os.getenv(\"SERP_API_KEY\")\n",
    "\n",
    "base_path = Path(\".webcache\")\n",
    "\n",
    "if not base_path.exists():\n",
    "    base_path.mkdir()\n",
    "\n",
    "def search(query):\n",
    "    query = query.lower().strip()\n",
    "    h = hash_string_sha256(query) + \".json\"\n",
    "    cache_file = base_path / h\n",
    "    if not cache_file.exists():\n",
    "        params = {\n",
    "          \"engine\": \"google\",\n",
    "          \"q\": query,\n",
    "          \"api_key\": SERP_API_KEY\n",
    "        }\n",
    "\n",
    "        search = GoogleSearch(params)\n",
    "        results = search.get_dict()\n",
    "        organic_results = results[\"organic_results\"]\n",
    "        write_json(cache_file, organic_results)\n",
    "    else:\n",
    "        organic_results = json.load(cache_file.open(\"r\"))\n",
    "        \n",
    "        \n",
    "    return organic_results"
   ]
  },
  {
   "cell_type": "code",
   "execution_count": null,
   "id": "dcc96fe9",
   "metadata": {},
   "outputs": [],
   "source": []
  }
 ],
 "metadata": {
  "kernelspec": {
   "display_name": "Python 3 (ipykernel)",
   "language": "python",
   "name": "python3"
  },
  "language_info": {
   "codemirror_mode": {
    "name": "ipython",
    "version": 3
   },
   "file_extension": ".py",
   "mimetype": "text/x-python",
   "name": "python",
   "nbconvert_exporter": "python",
   "pygments_lexer": "ipython3",
   "version": "3.9.13"
  },
  "vscode": {
   "interpreter": {
    "hash": "e03b612d84ba21ce95ed447e81b3062e1eb99b56c6d885cdab4aaa12f1b8e240"
   }
  }
 },
 "nbformat": 4,
 "nbformat_minor": 5
}
